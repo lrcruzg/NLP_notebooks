{
 "cells": [
  {
   "attachments": {},
   "cell_type": "markdown",
   "id": "335ce19a",
   "metadata": {},
   "source": [
    "###  Luis Ricardo Cruz García\n",
    "#### Procesamiento de Lenguaje Natural (NLP)\n",
    "\n",
    "#### Tarea 1"
   ]
  },
  {
   "cell_type": "code",
   "execution_count": 1,
   "id": "0eb9d21a",
   "metadata": {},
   "outputs": [],
   "source": [
    "import re\n",
    "import os\n",
    "import glob\n",
    "import nltk\n",
    "from bs4 import BeautifulSoup\n",
    "import matplotlib.pyplot as plt"
   ]
  },
  {
   "cell_type": "code",
   "execution_count": 2,
   "id": "283bf025",
   "metadata": {},
   "outputs": [],
   "source": [
    "# create directory to store the text of each conf.\n",
    "# os.mkdir(\"../Data/estenograficas_limpias\")"
   ]
  },
  {
   "cell_type": "code",
   "execution_count": 3,
   "id": "9c2fe204",
   "metadata": {},
   "outputs": [],
   "source": [
    "for file_path in glob.glob(\"../../Data/estenograficas/*\"):\n",
    "    file_name = re.findall(r\"(\\d\\d\\d\\d-\\d\\d-\\d\\d)\", file_path)[0]\n",
    "    with open(file_path) as f:\n",
    "        f_soup = BeautifulSoup(f.read(), \"html.parser\")\n",
    "\n",
    "        # remove \"\\n\", \"\\t\", \"\\s\".\n",
    "        f_clean_text = re.sub(r\"[\\n\\t\\s]+\", \" \", f_soup.get_text())\n",
    "\n",
    "        # remove undesired occurrences of \"covid\",\"coronavirus\" in the html of every conference.\n",
    "        f_clean_text = re.sub(r\"Cenapred Becas.+?by ThemeMakers\", \"\", f_clean_text)\n",
    "        f_clean_text = re.sub(r\"\\d\\d\\.\\d\\d\\.\\d\\d.+?\\d\\d\\.\\d\\d\\.\\d\\d\", \"\", f_clean_text)\n",
    "        \n",
    "        # write clean text to a new file in \"estenograficas_limpias\" folder with the same name\n",
    "        with open(\"../../Data/estenograficas_limpias/\" + file_name + \".txt\", \"x\") as clean_f:\n",
    "            clean_f.write(f_clean_text)"
   ]
  },
  {
   "attachments": {},
   "cell_type": "markdown",
   "id": "ccddd353",
   "metadata": {},
   "source": [
    "# 2.- Vistazo a los datos\n",
    "\n",
    "1. Cargue todas las donferencias en un string y aplique la función split para generar los tokents fácilmente."
   ]
  },
  {
   "cell_type": "code",
   "execution_count": 3,
   "id": "37447ddb",
   "metadata": {},
   "outputs": [],
   "source": [
    "conferences_str = \"\"\n",
    "\n",
    "for file in glob.glob(\"../../Data/estenograficas_limpias/*\"):\n",
    "\tconferences_str += open(file).read()"
   ]
  },
  {
   "cell_type": "code",
   "execution_count": 7,
   "id": "e9037088",
   "metadata": {},
   "outputs": [],
   "source": [
    "conferences_tokens = conferences_str.split()"
   ]
  },
  {
   "cell_type": "markdown",
   "id": "88cb74d1",
   "metadata": {},
   "source": [
    "2. Contar la cantidad de palabras en todas las conferencias."
   ]
  },
  {
   "cell_type": "code",
   "execution_count": 8,
   "id": "959b7996",
   "metadata": {},
   "outputs": [
    {
     "name": "stdout",
     "output_type": "stream",
     "text": [
      "len(conferences_tokens) = 6856927\n"
     ]
    }
   ],
   "source": [
    "print(f\"{len(conferences_tokens) = }\")"
   ]
  },
  {
   "cell_type": "markdown",
   "id": "fefbdbb7",
   "metadata": {},
   "source": [
    "3. Extraer el vocabulario y mostrar su longitud."
   ]
  },
  {
   "cell_type": "code",
   "execution_count": 9,
   "id": "6d6da07f",
   "metadata": {},
   "outputs": [
    {
     "name": "stdout",
     "output_type": "stream",
     "text": [
      "len(vocabulary) = 157389\n"
     ]
    }
   ],
   "source": [
    "vocabulary = list(set(conferences_tokens))\n",
    "print(f\"{len(vocabulary) = }\")"
   ]
  },
  {
   "cell_type": "markdown",
   "id": "842db025",
   "metadata": {},
   "source": [
    "4. Mida la riqueza del vocabulario de alguna forma en todos los documentos."
   ]
  },
  {
   "cell_type": "code",
   "execution_count": 10,
   "id": "4ebe1a39",
   "metadata": {},
   "outputs": [
    {
     "name": "stdout",
     "output_type": "stream",
     "text": [
      "len(conferences_tokens) / len(vocabulary) = 43.56674862919264\n"
     ]
    }
   ],
   "source": [
    "print(f\"{len(conferences_tokens) / len(vocabulary) = }\")"
   ]
  },
  {
   "attachments": {},
   "cell_type": "markdown",
   "id": "6d2e0b68",
   "metadata": {},
   "source": [
    "5. Haga lo mismo que los 4 puntos anteriores pero con todo el texto en minúsculas. Vea las diferencias y comente brevemente."
   ]
  },
  {
   "cell_type": "code",
   "execution_count": 11,
   "id": "7ee3192f",
   "metadata": {},
   "outputs": [
    {
     "name": "stdout",
     "output_type": "stream",
     "text": [
      "len(conferences_lower_tokens) = 6856927\n",
      "len(vocabulary_lower) = 145208\n",
      "len(conferences_lower_tokens) / len(vocabulary_lower) = 47.22141342074817\n"
     ]
    }
   ],
   "source": [
    "conferences_lower_str = conferences_str.lower()\n",
    "conferences_lower_tokens = conferences_lower_str.split()\n",
    "print(f\"{len(conferences_lower_tokens) = }\")\n",
    "vocabulary_lower = list(set(conferences_lower_tokens))\n",
    "print(f\"{len(vocabulary_lower) = }\")\n",
    "print(f\"{len(conferences_lower_tokens) / len(vocabulary_lower) = }\")"
   ]
  },
  {
   "attachments": {},
   "cell_type": "markdown",
   "id": "7a3130a3",
   "metadata": {},
   "source": [
    "6. Haga lo mismo que los puntos 1, 2 y 3 usando el tokenizador RegExp de NLTK, con una expresión regular que trate de sacar solo tokens que pueden contener solo letras mayúsculas y minúsculas. Después cargue los tokens en un objeto Text de NLTK en lugar de una lista de Python."
   ]
  },
  {
   "cell_type": "code",
   "execution_count": 10,
   "id": "4129dcdf",
   "metadata": {},
   "outputs": [],
   "source": [
    "from nltk.tokenize import RegexpTokenizer\n",
    "\n",
    "regex_tknzr = RegexpTokenizer(r\"[A-Za-z]+\")"
   ]
  },
  {
   "cell_type": "code",
   "execution_count": 11,
   "id": "52049a16",
   "metadata": {},
   "outputs": [
    {
     "name": "stdout",
     "output_type": "stream",
     "text": [
      "len(conferences_tokens_regex) = 7399925\n",
      "len(vocabulary_regex) = 65462\n"
     ]
    }
   ],
   "source": [
    "conferences_tokens_regex = regex_tknzr.tokenize(conferences_str)\n",
    "\n",
    "print(f\"{len(conferences_tokens_regex) = }\")\n",
    "vocabulary_regex = set(conferences_tokens_regex)\n",
    "print(f\"{len(vocabulary_regex) = }\")"
   ]
  },
  {
   "attachments": {},
   "cell_type": "markdown",
   "id": "524406c7",
   "metadata": {},
   "source": [
    "7. Haga todo el texto minúsculas. Haga los mismo que los puntos 1, 2, y 3 usando el tokenizador TweetTokenizer. Haga el resto de esta tarea asumiendo haber hecho este punto."
   ]
  },
  {
   "cell_type": "code",
   "execution_count": 12,
   "id": "15f963aa",
   "metadata": {},
   "outputs": [],
   "source": [
    "from nltk.tokenize import TweetTokenizer\n",
    "\n",
    "tweet_tknzr = TweetTokenizer()"
   ]
  },
  {
   "cell_type": "code",
   "execution_count": 13,
   "id": "04b7bcfb",
   "metadata": {},
   "outputs": [
    {
     "name": "stdout",
     "output_type": "stream",
     "text": [
      "len(conferences_tokens_tweet) = 7913397\n",
      "len(vocabulary_tweet) = 66991\n"
     ]
    }
   ],
   "source": [
    "conferences_tokens_tweet = tweet_tknzr.tokenize(conferences_lower_str)\n",
    "\n",
    "print(f\"{len(conferences_tokens_tweet) = }\")\n",
    "vocabulary_tweet = set(conferences_tokens_tweet)\n",
    "print(f\"{len(vocabulary_tweet) = }\")"
   ]
  },
  {
   "attachments": {},
   "cell_type": "markdown",
   "id": "b74c7164",
   "metadata": {},
   "source": [
    "# 3.- Funciones NLTK"
   ]
  },
  {
   "cell_type": "code",
   "execution_count": 14,
   "id": "782a9a05",
   "metadata": {},
   "outputs": [],
   "source": [
    "conferences_text = nltk.Text(conferences_tokens_tweet)"
   ]
  },
  {
   "attachments": {},
   "cell_type": "markdown",
   "id": "d31e2dfc",
   "metadata": {},
   "source": [
    "1. Use la función `concordance` para ver el contexto de 5 palabras que usted elija."
   ]
  },
  {
   "cell_type": "code",
   "execution_count": 15,
   "id": "461bb413",
   "metadata": {},
   "outputs": [
    {
     "name": "stdout",
     "output_type": "stream",
     "text": [
      "Displaying 25 of 1706 matches:\n",
      "a nacional en tlaxcala al asaltar un tren de carga ; y también este fin de sem\n",
      "laxcala porque se pretendía robar un tren , saquear unos vagones de un tren ; \n",
      "un tren , saquear unos vagones de un tren ; y los delincuentes , que encabezab\n",
      "evistos . baste poner el ejemplo del tren toluca-ciudad de méxico , que se est\n",
      "ene que salir de aquí , de méxico en tren y lo van siguiendo , bloquean las ví\n",
      "o desde allá y ya no puede seguir en tren a veracruz y sigue hacia la costa a \n",
      " conferencia , vamos a supervisar el tren toluca-ciudad de méxico , el avance \n",
      "iendo oportunidad de trabajo , en el tren maya , en el istmo , en la refinería\n",
      "video ) ( inicia video ) voz mujer : tren maya , reporte de avances . semana 3\n",
      "trimonio arqueológico en la ruta del tren maya . al día de hoy hemos estableci\n",
      "dos por los cinco tramos en obra del tren maya ascienden a 69 mil 63 . el tren\n",
      "tren maya ascienden a 69 mil 63 . el tren maya avanza . ( finaliza video ) ( i\n",
      "eo ) ( inicia video construcción del tren interurbano méxico-toluca ) voz muje\n",
      "os caminos de acceso a la set 2 . el tren interurbano reducirá el aforo vehicu\n",
      "r y para continuar con obras como el tren maya , el aeropuerto ‘ felipe ángele\n",
      "vamos muy bien , vamos a terminar el tren maya , que es la obra más grande , p\n",
      "zos para iniciar la construcción del tren maya , porque son empleos , muchos e\n",
      "anderazo del inicio de las obras del tren maya , quiero ir a chiapas , a tabas\n",
      "emplo , el proceso de licitación del tren maya , a finales de este mes ya vamo\n",
      "¿ por qué nos importa iniciar lo del tren maya ? porque cada tramo nos va a si\n",
      "rno . cuando nos decían : ‘ paren el tren maya ’ , nuestros adversarios , ¿ có\n",
      "e ángeles ’ , en la construcción del tren maya , nos ayudan en la construcción\n",
      "para que construyera los vagones del tren maya , entre otras cosas . entre qui\n",
      "su proyecto dos bocas , aeropuerto y tren maya ? presidente andrés manuel lópe\n",
      "ción y significa empleos , obra . el tren maya va a generar miles de empleos ,\n",
      "Displaying 25 of 5782 matches:\n",
      "haciendo primero ? no permitir la corrupción , vamos a acabar con la corrupció\n",
      "orrupción , vamos a acabar con la corrupción y con la impunidad . se va a acab\n",
      " la impunidad . se va a acabar la corrupción . me canso ganso . se va a acabar\n",
      "orgojo . ahora es distinto , cero corrupción , cero impunidad , para que el pr\n",
      "amos ahorrando por no permitir la corrupción , por hacer un gobierno austero ,\n",
      " a estar robando y ya se acabó la corrupción . ahora es el gobierno , repito ,\n",
      "principal problema de méxico : la corrupción . eso es una revolución , eso es \n",
      "una transformación : desterrar la corrupción , acabar con el saqueo , con el r\n",
      "ramos que estemos acabando con la corrupción y que no tengamos problemas mayor\n",
      "a todos los mexicanos , porque la corrupción es un cáncer que destruye todo . \n",
      "todo . hay países en donde no hay corrupción y no hay pobreza , y no hay inseg\n",
      "eles de bienestar , porque no hay corrupción . nosotros somos poseedores de un\n",
      "ueblo trabajador , mal gobierno , corrupción y eso es lo que ha dado al traste\n",
      "ar ese mal , vamos a enfrentar la corrupción y de esa manera a salir adelante \n",
      "neficios que nos da acabar con la corrupción . ¿ cuánto nos ahorramos ? yo cre\n",
      "lones de pesos por no permitir la corrupción y por la austeridad republicana ,\n",
      "do eso es porque no se permite la corrupción y esto nos da también la segurida\n",
      " nos ayuda mucho , el que no haya corrupción , el que no haya gastos superfluo\n",
      ", porque no sólo es acabar con la corrupción , es que ya no hay sueldos , como\n",
      "emos presupuesto . no permitir la corrupción . nada más en el huachicol , ¿ sa\n",
      "les decía que se va terminando la corrupción , los privilegios , y por eso est\n",
      "zar efectivo , porque se evita la corrupción , en primer lugar , y se evita qu\n",
      "n venido denunciando prácticas de corrupción vinculadas al estado de méxico en\n",
      "nunciaron fraudes inmobiliarios y corrupción en los permisos de construcción d\n",
      "rupo atlacomulco . denunciar esta corrupción ha tenido serias represalias , co\n",
      "Displaying 25 of 466 matches:\n",
      "deral por el grupo parlamentario de morena , me tocó ser el diputado más joven\n",
      "que está ahora llevándose a cabo en morena , el funcionario que se meta a eso \n",
      "arme nada de lo que está pasando en morena , pero cuando alguien - yo creo que\n",
      "oy para decirle a los militantes de morena que siempre hemos luchado , siempre\n",
      "ólo en el caso de los militantes de morena , en general los ciudadanos mexican\n",
      "opio movimiento , del movimiento de morena que lo llevó al poder en este parti\n",
      "én algunas dirigencias estatales de morena han enviado a personas aquí a la co\n",
      "viados de las agencias estatales de morena , de movimientos de representantes \n",
      " de la 4t , dice que no pertenece a morena y pues no apoya el gobierno de uste\n",
      "sidencial . usted es el fundador de morena y tiene en puerta en 25 días la con\n",
      "idente , ¿ qué va a hacer usted con morena ? presidente andrés manuel lópez ob\n",
      "mire , yo he sido muy respetuoso de morena , porque también ya no es como ante\n",
      "uoso de las decisiones que toman en morena , como también he sido respetuoso d\n",
      "o para , ‘ a ver , vamos a apoyar a morena ’ , no , porque también en eso hay \n",
      "or nadie , y lo mismo en el caso de morena . entonces , ¿ qué tienen que hacer\n",
      " bondad que el pueblo ha ofrecido a morena . ¿ y qué es lo mejor ? hacer a un \n",
      "ue son , por cierto , militantes de morena , lo eran . el caso de román rubio \n",
      "andidatura de tanto el candidato de morena a guerrero como de michoacán ; ya s\n",
      " también se da esta coalición entre morena , partido del trabajo y el partido \n",
      " sabido que la actual dirigencia de morena ha denunciado a la anterior dirigen\n",
      "unciado a la anterior dirigencia de morena , que encabezó yeidckol polevnsky ,\n",
      "s que ha hecho la actual dirigencia morena , podría decirse que también hay co\n",
      " se han sumado inclusive algunos de morena y que también algunos del prd y tam\n",
      "sa la presentó eduardo aguilar , de morena , me parece , en el senado ; y hay \n",
      "que mario delgado , el dirigente de morena , estuvo aquí , dijo que se reunió \n",
      "Displaying 25 of 134 matches:\n",
      " la pandemia , el viernes el doctor gatell empezó su informe técnico diciendo \n",
      "ar el semáforo por - dijo el doctor gatell - por falta de información de los e\n",
      "asado con lo que ha estado diciendo gatell , parece que por fin se reconoce qu\n",
      "na me puede dar la palabra que esté gatell , porque tengo algo sobre la pandem\n",
      " la pandemia . el doctor hugo lópez gatell mostrará en qué se sustenta , en qu\n",
      " vamos a pedir al doctor hugo lópez gatell que nos informe . quiero aprovechar\n",
      "ra agradecerle al doctor hugo lópez gatell que durante mucho tiempo , más de u\n",
      "do agradecerle al doctor hugo lópez gatell y a todo su equipo por lo que han h\n",
      "tina y recibió al doctor hugo lópez gatell . él , su equipo dio todas las faci\n",
      "r y también la del vih . hugo lópez gatell : con mucho gusto . como dice el pr\n",
      "sa . nos comentaba el subsecretario gatell … presidente andrés manuel lópez ob\n",
      "ntaba , presidente el subsecretario gatell que esta presión continua . en vari\n",
      "de que nos decía por ahí del doctor gatell quedaron varados muchos hospitales \n",
      "para usted , pero primero vamos con gatell . el viernes pasado entrevisté al s\n",
      "s estados que ya mencionó el doctor gatell donde se va a vacunar a los profeso\n",
      "dos que ya comentaba aquí el doctor gatell , que efectivamente ya son por esta\n",
      " pregunta para el doctor hugo lópez gatell sobre el calendario de la vacunació\n",
      " ahorita que está usted , el doctor gatell y la maestra delfina . buen día , c\n",
      " último , para el doctor hugo lópez gatell la pregunta que quedó pendiente la \n",
      "n estos cuidados , cuando el doctor gatell dice que estamos … se ha prolongado\n",
      "vamente , como mencionaba el doctor gatell , 88 casos de escuelas , que esto r\n",
      "tora : ¿ estarían pensando , doctor gatell , en cofepris en autorizarla de man\n",
      "a iniciar con el tema con el doctor gatell . ha causado cierta confusión y que\n",
      "covid - 19 . interlocutora : doctor gatell , ¿ y con esto que nos explica podr\n",
      " cuántos millones se … ? hugo lópez gatell ramírez : insisto que no me gustarí\n",
      "Displaying 25 of 155 matches:\n",
      "isado muchos bienes inmuebles al narcotráfico , lo han hecho también con cabal\n",
      "blemas más que nada de ligados a narcotráfico y estamos frente a arizona ¿ qué\n",
      "plicar la política de combate al narcotráfico ; entonces , con nosotros las co\n",
      "odemos enfrentar el problema del narcotráfico , de la violencia y además soste\n",
      " sobre operaciones en contra del narcotráfico , también estos resultados son d\n",
      "los en caliente ’ , la guerra al narcotráfico y lo que ya es de dominio públic\n",
      "que favorecían o favorecieron al narcotráfico y a empresas ligadas con la corr\n",
      "ratorio y el tema del combate al narcotráfico no sean utilizados como compleme\n",
      "apología de la delincuencia , el narcotráfico y la ruta de convertirse en new \n",
      "e se refiere a resultados con el narcotráfico de las tres fuerzas , esto es lo\n",
      "do del estado mexicano contra el narcotráfico , estos son los numerarios con r\n",
      "ecisión de declarar la guerra al narcotráfico se movió una parte de la secreta\n",
      " ¿ se acuerdan que antes todo el narcotráfico tenía que ver con la venta de dr\n",
      "guerra al crimen organizado , al narcotráfico y nos deja un país con violencia\n",
      "s que tenían que ver solo con el narcotráfico , pero no se hacía labor de segu\n",
      "egales en manos de civiles y del narcotráfico en el país , somos después de es\n",
      "tá relacionado con el combate al narcotráfico y particularmente a los grupos d\n",
      "ectos negativos relativos con el narcotráfico . la política del presidente and\n",
      "drocarburos , esto es un caso de narcotráfico más , robo de hidrocarburos , en\n",
      "s delincuenciales vinculados con narcotráfico . llegamos a tener unos 800 mill\n",
      " esfuerzo nacional de combate al narcotráfico y las actividades de seguridad p\n",
      "ace nada en el combate contra el narcotráfico ? ¿ y por qué en estados unidos \n",
      " el país con la guerra contra el narcotráfico , y por supuesto también tiene c\n",
      " alió con distintos cárteles del narcotráfico para expandir todo esto y generó\n",
      "no está siendo controlada por el narcotráfico , incluso se atrevieron a mencio\n"
     ]
    }
   ],
   "source": [
    "words = [\"tren\", \"corrupción\", \"morena\", \"gatell\", \"narcotráfico\"]\n",
    "\n",
    "for w in words:\n",
    "\tconferences_text.concordance(w)"
   ]
  },
  {
   "attachments": {},
   "cell_type": "markdown",
   "id": "0044221d",
   "metadata": {},
   "source": [
    "2. Elija una palabra que le parezca interesante y muestre palabras con uso similar. Muestre también los contextos comunes."
   ]
  },
  {
   "cell_type": "code",
   "execution_count": 16,
   "id": "9f0051ef",
   "metadata": {},
   "outputs": [
    {
     "name": "stdout",
     "output_type": "stream",
     "text": [
      "y que de es pero no porque en entonces ya económica exterior también\n",
      "anterior del como o para si pues\n"
     ]
    }
   ],
   "source": [
    "interesting_word = \"neoliberal\"\n",
    "conferences_text.similar(interesting_word)"
   ]
  },
  {
   "cell_type": "markdown",
   "id": "a4490505",
   "metadata": {},
   "source": [
    "3. Haciendo uso de alguna librerı́a de Python: organice todos los archivos de las conferencias desde la más antigua hasta la más nueva (echando mano del nombre de los archivos y fechas), y cárguelos en un objeto `Text` para generar un dispersion plot de las siguientes palabras: \"prian\", \"corrupción\", \"mafia\", \"narco\", \"gasolina\", \"pipas\", \"conacyt\", \"ciencia\", \"turismo\", \"pandemia\", \"coronavirus\", \"covid\", \"delta\", \"omicron\", \"vacuna\", \"vacunación\" y otras tres palabras de su elección."
   ]
  },
  {
   "cell_type": "code",
   "execution_count": 2,
   "id": "be62cb7a",
   "metadata": {},
   "outputs": [],
   "source": [
    "# using the file name format \"yyyy-mm-dd.txt\" to sort the files in estenograficas_limpias folder\n",
    "conferences_inorder = sorted(glob.glob(\"../../Data/estenograficas_limpias/*\"))"
   ]
  },
  {
   "cell_type": "code",
   "execution_count": 18,
   "id": "0673a765",
   "metadata": {},
   "outputs": [],
   "source": [
    "conferences_inorder_str = \"\"\n",
    "\n",
    "for file in conferences_inorder:\n",
    "\tconferences_inorder_str += open(file).read()"
   ]
  },
  {
   "cell_type": "code",
   "execution_count": 19,
   "id": "75cb4af8",
   "metadata": {},
   "outputs": [],
   "source": [
    "conferences_inorder_str = conferences_inorder_str.lower()\n",
    "conferences_inorder_tokens = tweet_tknzr.tokenize(conferences_inorder_str)\n",
    "conferences_inorder_text = nltk.Text(conferences_inorder_tokens)"
   ]
  },
  {
   "cell_type": "code",
   "execution_count": 20,
   "id": "3a2f0a15",
   "metadata": {},
   "outputs": [
    {
     "data": {
      "image/png": "[encoded data removed]",
      "text/plain": [
       "<Figure size 432x288 with 1 Axes>"
      ]
     },
     "metadata": {
      "needs_background": "light"
     },
     "output_type": "display_data"
    }
   ],
   "source": [
    "conferences_inorder_text.dispersion_plot(\n",
    "\t[\"prian\", \"corrupción\", \"mafia\", \"narco\", \"gasolina\", \"pipas\", \"conacyt\", \"ciencia\", \"turismo\", \"pandemia\", \"coronavirus\", \"covid\", \"delta\", \"omicron\", \"vacuna\", \"vacunación\", \"gatell\", \"neoliberal\"]\n",
    ")"
   ]
  },
  {
   "cell_type": "markdown",
   "id": "e96a14cb",
   "metadata": {},
   "source": [
    "4. Muestre $50$ colocaciones de todo el corpus."
   ]
  },
  {
   "cell_type": "code",
   "execution_count": 21,
   "id": "caf31c92",
   "metadata": {},
   "outputs": [
    {
     "name": "stdout",
     "output_type": "stream",
     "text": [
      "lópez obrador; andrés manuel; manuel lópez; presidente andrés; por\n",
      "ciento; estados unidos; buenos días; señor presidente; todos los;\n",
      "versión estenográfica; nada más; muchas gracias; por eso; guardia\n",
      "nacional; desde luego; prensa matutina; adultos mayores; mil millones;\n",
      "marcelo ebrard; por ejemplo; todas las; baja california; muy\n",
      "importante; sin embargo; derechos humanos; quintana roo; sobre todo;\n",
      "creo que; nuestro país; que que; por qué; tiene que; muy bien; los\n",
      "trabajadores; para que; documentosdocumentos gabinetegabinete;\n",
      "gabinetegabinete enlaces; tren maya; hugo lópez-gatell; ver con;\n",
      "comisión federal; que nos; gobierno federal; interés aprende; mucho\n",
      "gusto; este año; home versión; poder judicial; matutina sala; del\n",
      "gobierno\n"
     ]
    }
   ],
   "source": [
    "conferences_text.collocations(50)"
   ]
  },
  {
   "cell_type": "markdown",
   "id": "33ec9b63",
   "metadata": {},
   "source": [
    "5. Muestre un histograma de longitud en caracteres de las palabras. Muestre en el histograma el top $5$ de longitudes más largas."
   ]
  },
  {
   "cell_type": "code",
   "execution_count": 22,
   "id": "992312fc",
   "metadata": {},
   "outputs": [
    {
     "data": {
      "image/png": "[encoded data removed]",
      "text/plain": [
       "<Figure size 432x288 with 1 Axes>"
      ]
     },
     "metadata": {
      "needs_background": "light"
     },
     "output_type": "display_data"
    }
   ],
   "source": [
    "len_per_word = [len(w) for w in conferences_text]\n",
    "occurrences = [len_per_word.count(i) for i in range(1, 20)]\n",
    "\n",
    "plt.bar(range(1, 20), occurrences)\n",
    "plt.xticks(range(1, 20))\n",
    "plt.xlabel(\"longitud\")\n",
    "plt.ylabel(\"ocurrencias\")\n",
    "plt.show()"
   ]
  },
  {
   "cell_type": "code",
   "execution_count": 23,
   "id": "df00cd2b",
   "metadata": {},
   "outputs": [],
   "source": [
    "# pairs (occurences, length)\n",
    "occ_len = list(zip(occurrences, list(range(1, 20))))\n",
    "occ_len.sort(reverse=True)"
   ]
  },
  {
   "cell_type": "code",
   "execution_count": 24,
   "id": "5b16e2bc",
   "metadata": {},
   "outputs": [
    {
     "data": {
      "image/png": "[encoded data removed]",
      "text/plain": [
       "<Figure size 432x288 with 1 Axes>"
      ]
     },
     "metadata": {
      "needs_background": "light"
     },
     "output_type": "display_data"
    }
   ],
   "source": [
    "# Graph of the five most occurring lengths.\n",
    "plt.bar([occ_len[i][1] for i in range(5)], [occ_len[i][0] for i in range(5)])\n",
    "plt.xticks([occ_len[i][1] for i in range(5)])\n",
    "plt.xlabel(\"longitud\")\n",
    "plt.ylabel(\"ocurrencias\")\n",
    "plt.show()"
   ]
  },
  {
   "cell_type": "markdown",
   "id": "622b0774",
   "metadata": {},
   "source": [
    "6. Muestre $50$ palabras con longitud mayor a $8$ caracteres y frecuencia mayor a $5$ en todo el texto usando list-comprenhension de python."
   ]
  },
  {
   "cell_type": "code",
   "execution_count": 25,
   "id": "9fcd943f",
   "metadata": {},
   "outputs": [],
   "source": [
    "from nltk import FreqDist"
   ]
  },
  {
   "cell_type": "code",
   "execution_count": 26,
   "id": "aaf865f7",
   "metadata": {},
   "outputs": [
    {
     "name": "stdout",
     "output_type": "stream",
     "text": [
      "['organismos', 'formulación', 'detallado', 'relacionan', 'gravísimo', 'pfizer-biontech', 'subutilizados', 'mosquitos', 'definitivo', 'dispersamos', 'comentándoles', 'despidieron', 'remodelar', 'consejera', 'llegáramos', 'endeudados', 'chantajes', 'simbólico', 'inmensamente', 'portación', 'promovido', 'especializados', 'sucedieron', 'aprendieron', 'jovencitos', 'contratado', 'coberturas', 'departamentales', 'cardiacos', 'carísimos', 'encuentra', 'fuertísimo', 'coordinadoras', 'tamaulipas', 'videojuegos', 'monitoreo', 'troncales', 'recibidos', 'exsecretaria', 'fracturas', 'barlovento', 'coincidentemente', 'comprobación', 'automotores', 'entregado', 'sustancia', 'acuíferos', 'especular', 'paternalismo', 'barredoras']\n"
     ]
    }
   ],
   "source": [
    "fdist = FreqDist(conferences_text)\n",
    "print([w for w in set(conferences_text) if len(w) > 8 and fdist[w] > 5][:50])"
   ]
  },
  {
   "cell_type": "markdown",
   "id": "276b6ad8",
   "metadata": {},
   "source": [
    "7. Ver [https://www.nltk.org/book/ch02.html](https://www.nltk.org/book/ch02.html) en la sección $1.5$. Proponga una gráfica usando ConditionalFreqDist como la de la Sección $1.5$ para estos datos. Usted elige las palabras."
   ]
  },
  {
   "cell_type": "code",
   "execution_count": 3,
   "id": "09553603",
   "metadata": {},
   "outputs": [],
   "source": [
    "str_conf = []\n",
    "\n",
    "for i, file in enumerate(conferences_inorder):\n",
    "\tstr_conf.append(open(file).read().lower().split())"
   ]
  },
  {
   "cell_type": "code",
   "execution_count": 4,
   "id": "9487ff0c",
   "metadata": {},
   "outputs": [],
   "source": [
    "cfd2 = nltk.ConditionalFreqDist(\n",
    "\t\t\t(target, re.findall(r\"\\d\\d\\d\\d\\-\\d\\d\\-\\d\\d\", date)[0])\n",
    "\t\t\tfor i, date in enumerate(conferences_inorder)\n",
    "\t\t\t\tfor w in str_conf[i]\n",
    "\t\t\t\t\tfor target in ['covid', 'vacuna']\n",
    "\t\t\t\t\t\tif w.startswith(target))"
   ]
  },
  {
   "cell_type": "code",
   "execution_count": 5,
   "id": "4a1bc9c0",
   "metadata": {},
   "outputs": [
    {
     "data": {
      "image/png": "[encoded data removed]",
      "text/plain": [
       "<Figure size 432x288 with 1 Axes>"
      ]
     },
     "metadata": {
      "needs_background": "light"
     },
     "output_type": "display_data"
    },
    {
     "data": {
      "text/plain": [
       "<AxesSubplot:xlabel='Samples', ylabel='Counts'>"
      ]
     },
     "execution_count": 5,
     "metadata": {},
     "output_type": "execute_result"
    }
   ],
   "source": [
    "cfd2.plot()"
   ]
  },
  {
   "cell_type": "markdown",
   "id": "f547b03c",
   "metadata": {},
   "source": [
    "8. Use la lista de stopwords de nltk y obtenga la cantidad de palabras en los datos con y sin stopwords."
   ]
  },
  {
   "cell_type": "code",
   "execution_count": 30,
   "id": "66aa9a45",
   "metadata": {},
   "outputs": [],
   "source": [
    "from nltk.corpus import stopwords"
   ]
  },
  {
   "cell_type": "code",
   "execution_count": 31,
   "id": "34e790f8",
   "metadata": {},
   "outputs": [],
   "source": [
    "# set of stop words to reduce computation time\n",
    "set_stopwords = set(stopwords.words('spanish'))\n",
    "\n",
    "conferences_tokens_no_sw = [w for w in conferences_tokens_tweet if w not in set_stopwords]"
   ]
  },
  {
   "cell_type": "code",
   "execution_count": 32,
   "id": "f9af6974",
   "metadata": {},
   "outputs": [
    {
     "name": "stdout",
     "output_type": "stream",
     "text": [
      "len(conferences_tokens_no_sw) = 4388196\n"
     ]
    }
   ],
   "source": [
    "print(f\"{len(conferences_tokens_no_sw) = }\")"
   ]
  },
  {
   "cell_type": "code",
   "execution_count": 33,
   "id": "d0e20b0d",
   "metadata": {},
   "outputs": [
    {
     "name": "stdout",
     "output_type": "stream",
     "text": [
      "66726\n"
     ]
    }
   ],
   "source": [
    "print(len(set(conferences_tokens_no_sw)))"
   ]
  },
  {
   "cell_type": "markdown",
   "id": "af7cca36",
   "metadata": {},
   "source": [
    "9. Muestre las 300 palabras más frecuentes en las conferencias, sin tomar en cuenta stopwords. Muéstrelas de la más frecuente a la menos frecuente."
   ]
  },
  {
   "cell_type": "code",
   "execution_count": 34,
   "id": "13a16a31",
   "metadata": {},
   "outputs": [
    {
     "data": {
      "text/plain": [
       "[(',', 619621),\n",
       " ('de', 380666),\n",
       " ('que', 269897),\n",
       " ('.', 255236),\n",
       " ('la', 221484),\n",
       " ('a', 185612),\n",
       " ('y', 178233),\n",
       " ('el', 177966),\n",
       " ('en', 176432),\n",
       " ('se', 123752),\n",
       " ('los', 105080),\n",
       " ('no', 96976),\n",
       " ('es', 92910),\n",
       " ('lo', 66451),\n",
       " ('con', 64920),\n",
       " ('para', 62559),\n",
       " ('por', 60948),\n",
       " ('las', 58894),\n",
       " ('un', 58818),\n",
       " ('del', 58779),\n",
       " (':', 54273),\n",
       " ('una', 45218),\n",
       " ('presidente', 40935),\n",
       " ('ya', 38966),\n",
       " ('porque', 33677),\n",
       " ('más', 33062),\n",
       " ('pero', 31490),\n",
       " ('al', 31125),\n",
       " ('¿', 30097),\n",
       " ('?', 30042),\n",
       " ('hay', 28656),\n",
       " ('como', 27907),\n",
       " ('también', 26595),\n",
       " ('eso', 25333),\n",
       " ('este', 24978),\n",
       " ('está', 24765),\n",
       " ('si', 24004),\n",
       " ('o', 22585),\n",
       " ('vamos', 21997),\n",
       " ('va', 21793),\n",
       " ('entonces', 21304),\n",
       " (';', 20912),\n",
       " ('nos', 20691),\n",
       " ('lópez', 20549),\n",
       " ('manuel', 20285),\n",
       " ('obrador', 19992),\n",
       " ('mil', 19840),\n",
       " ('andrés', 19834),\n",
       " ('muy', 19318),\n",
       " ('méxico', 19003),\n",
       " ('todo', 18995),\n",
       " ('todos', 18084),\n",
       " ('su', 17944),\n",
       " ('son', 17649),\n",
       " ('tiene', 16787),\n",
       " ('esta', 16694),\n",
       " ('esto', 16431),\n",
       " ('están', 16297),\n",
       " ('sí', 15595),\n",
       " ('qué', 15562),\n",
       " ('ha', 15513),\n",
       " ('le', 15227),\n",
       " ('aquí', 14935),\n",
       " ('yo', 14548),\n",
       " ('tenemos', 14290),\n",
       " ('estamos', 14168),\n",
       " ('me', 14031),\n",
       " ('gobierno', 13980),\n",
       " ('les', 13452),\n",
       " ('-', 12801),\n",
       " ('sobre', 12321),\n",
       " ('ahora', 11800),\n",
       " ('ese', 11098),\n",
       " ('dos', 10724),\n",
       " ('desde', 10376),\n",
       " ('ver', 10279),\n",
       " ('país', 9883),\n",
       " ('millones', 9858),\n",
       " ('mucho', 9598),\n",
       " ('nacional', 9582),\n",
       " ('caso', 9580),\n",
       " ('estado', 9566),\n",
       " ('han', 9451),\n",
       " ('tienen', 9334),\n",
       " ('nada', 9299),\n",
       " ('fue', 9217),\n",
       " ('pues', 9202),\n",
       " ('estos', 9185),\n",
       " ('cuando', 9103),\n",
       " ('van', 9094),\n",
       " ('ahí', 9066),\n",
       " ('nosotros', 9053),\n",
       " ('cómo', 9004),\n",
       " ('pesos', 8945),\n",
       " ('esa', 8798),\n",
       " ('pueblo', 8791),\n",
       " ('días', 8782),\n",
       " ('estados', 8753),\n",
       " ('bueno', 8732),\n",
       " ('ser', 8706),\n",
       " ('así', 8666),\n",
       " ('hacer', 8618),\n",
       " ('pregunta', 8546),\n",
       " ('salud', 8441),\n",
       " ('‘', 8290),\n",
       " ('gente', 8151),\n",
       " ('usted', 8044),\n",
       " ('sus', 7998),\n",
       " ('señor', 7810),\n",
       " ('’', 7771),\n",
       " ('año', 7676),\n",
       " ('hasta', 7651),\n",
       " ('ciento', 7562),\n",
       " ('gracias', 7510),\n",
       " ('sea', 7412),\n",
       " ('donde', 7397),\n",
       " ('era', 7315),\n",
       " ('bien', 7283),\n",
       " ('…', 7269),\n",
       " ('sin', 7233),\n",
       " ('importante', 7180),\n",
       " ('tener', 7082),\n",
       " ('decir', 7063),\n",
       " ('manera', 7012),\n",
       " ('años', 6955),\n",
       " ('tres', 6794),\n",
       " ('puede', 6743),\n",
       " ('tema', 6739),\n",
       " ('mismo', 6729),\n",
       " ('hoy', 6403),\n",
       " ('estar', 6340),\n",
       " ('tiempo', 6336),\n",
       " ('hace', 6334),\n",
       " ('ellos', 6332),\n",
       " ('día', 6330),\n",
       " ('hemos', 6241),\n",
       " ('personas', 6180),\n",
       " ('parte', 6163),\n",
       " ('interlocutor', 5949),\n",
       " ('general', 5911),\n",
       " ('todas', 5898),\n",
       " ('estas', 5793),\n",
       " ('corrupción', 5782),\n",
       " ('había', 5689),\n",
       " ('interlocutora', 5644),\n",
       " ('buenos', 5634),\n",
       " ('luego', 5566),\n",
       " ('secretaría', 5532),\n",
       " ('sólo', 5381),\n",
       " ('seguridad', 5363),\n",
       " ('poder', 5341),\n",
       " ('muchas', 5304),\n",
       " ('unidos', 5276),\n",
       " ('voy', 5224),\n",
       " ('acuerdo', 5167),\n",
       " ('información', 5134),\n",
       " ('ustedes', 5131),\n",
       " ('nuestro', 5040),\n",
       " ('haya', 4908),\n",
       " ('haciendo', 4890),\n",
       " ('ni', 4811),\n",
       " ('ayer', 4740),\n",
       " ('trabajo', 4719),\n",
       " ('otros', 4690),\n",
       " ('antes', 4566),\n",
       " ('otro', 4539),\n",
       " ('además', 4527),\n",
       " ('prensa', 4482),\n",
       " ('cada', 4386),\n",
       " ('entre', 4364),\n",
       " ('programa', 4354),\n",
       " ('empresas', 4347),\n",
       " ('trabajadores', 4347),\n",
       " ('federal', 4323),\n",
       " ('mi', 4314),\n",
       " ('uno', 4259),\n",
       " ('semana', 4258),\n",
       " ('apoyo', 4232),\n",
       " ('pública', 4213),\n",
       " ('siempre', 4189),\n",
       " ('ciudad', 4130),\n",
       " ('ejemplo', 4120),\n",
       " ('haber', 4063),\n",
       " ('toda', 4042),\n",
       " ('dinero', 3894),\n",
       " ('seguir', 3874),\n",
       " ('cabo', 3846),\n",
       " ('dar', 3828),\n",
       " ('secretario', 3814),\n",
       " ('tengo', 3802),\n",
       " ('casos', 3768),\n",
       " ('otra', 3734),\n",
       " ('momento', 3700),\n",
       " ('menos', 3693),\n",
       " ('muchos', 3688),\n",
       " ('creo', 3666),\n",
       " ('contra', 3628),\n",
       " ('mejor', 3588),\n",
       " ('ir', 3577),\n",
       " ('presupuesto', 3546),\n",
       " ('social', 3500),\n",
       " ('estoy', 3476),\n",
       " ('vida', 3467),\n",
       " ('poco', 3450),\n",
       " ('atención', 3418),\n",
       " ('política', 3415),\n",
       " ('vez', 3404),\n",
       " ('sino', 3385),\n",
       " ('hecho', 3350),\n",
       " ('mañana', 3335),\n",
       " ('cuatro', 3315),\n",
       " ('esos', 3307),\n",
       " ('mexicanos', 3273),\n",
       " ('asunto', 3272),\n",
       " ('otras', 3237),\n",
       " ('todavía', 3225),\n",
       " ('cosas', 3222),\n",
       " ('él', 3222),\n",
       " ('derecho', 3215),\n",
       " ('tanto', 3210),\n",
       " ('centavos', 3207),\n",
       " ('reforma', 3196),\n",
       " ('plan', 3176),\n",
       " ('estaba', 3174),\n",
       " ('recursos', 3173),\n",
       " ('mayor', 3167),\n",
       " ('algunos', 3159),\n",
       " ('cinco', 3143),\n",
       " ('pueden', 3137),\n",
       " ('proceso', 3134),\n",
       " ('10', 3122),\n",
       " ('incluso', 3111),\n",
       " ('quiero', 3098),\n",
       " ('bienestar', 3087),\n",
       " ('mundo', 3073),\n",
       " ('jóvenes', 3037),\n",
       " ('nuevo', 3030),\n",
       " ('conferencia', 3029),\n",
       " ('situación', 3013),\n",
       " ('sido', 3011),\n",
       " ('problema', 2943),\n",
       " ('primero', 2921),\n",
       " ('podemos', 2914),\n",
       " ('nuestra', 2905),\n",
       " ('da', 2904),\n",
       " ('pemex', 2893),\n",
       " ('vacunas', 2837),\n",
       " ('fueron', 2836),\n",
       " ('algo', 2832),\n",
       " ('guardia', 2829),\n",
       " ('pandemia', 2825),\n",
       " ('países', 2824),\n",
       " ('20', 2815),\n",
       " ('trabajando', 2792),\n",
       " ('precio', 2788),\n",
       " ('primera', 2767),\n",
       " ('mujeres', 2766),\n",
       " ('(', 2757),\n",
       " ('pasado', 2741),\n",
       " ('baja', 2705),\n",
       " ('queremos', 2690),\n",
       " ('después', 2675),\n",
       " ('ley', 2671),\n",
       " ('empresa', 2651),\n",
       " ('público', 2650),\n",
       " ('construcción', 2640),\n",
       " ('quién', 2615),\n",
       " ('dice', 2609),\n",
       " ('gas', 2609),\n",
       " ('durante', 2607),\n",
       " ('sería', 2597),\n",
       " ('población', 2595),\n",
       " ('gran', 2585),\n",
       " ('sistema', 2577),\n",
       " ('covid', 2570),\n",
       " ('hubo', 2567),\n",
       " ('hizo', 2553),\n",
       " ('seis', 2525),\n",
       " ('agua', 2524),\n",
       " ('mayores', 2508),\n",
       " ('versión', 2506),\n",
       " ('república', 2504),\n",
       " ('hospitales', 2490),\n",
       " ('sector', 2467),\n",
       " ('respecto', 2451),\n",
       " ('informar', 2444),\n",
       " ('elementos', 2443),\n",
       " ('conocer', 2416),\n",
       " ('comisión', 2397),\n",
       " ('número', 2397),\n",
       " ('veces', 2396),\n",
       " ('hacia', 2396),\n",
       " ('personal', 2392),\n",
       " ('gobernador', 2389),\n",
       " ('quienes', 2385),\n",
       " ('adelante', 2376),\n",
       " ('cuenta', 2371),\n",
       " ('estenográfica', 2369),\n",
       " ('atender', 2366),\n",
       " (')', 2362)]"
      ]
     },
     "execution_count": 34,
     "metadata": {},
     "output_type": "execute_result"
    }
   ],
   "source": [
    "fdist.most_common(300)"
   ]
  },
  {
   "cell_type": "code",
   "execution_count": 35,
   "id": "e0efd8da",
   "metadata": {},
   "outputs": [],
   "source": [
    "fdist_no_stopwords = nltk.FreqDist(w for w in conferences_text if w not in set_stopwords)"
   ]
  },
  {
   "cell_type": "code",
   "execution_count": 36,
   "id": "3fe1ec26",
   "metadata": {},
   "outputs": [
    {
     "data": {
      "text/plain": [
       "[(',', 619621),\n",
       " ('.', 255236),\n",
       " (':', 54273),\n",
       " ('presidente', 40935),\n",
       " ('¿', 30097),\n",
       " ('?', 30042),\n",
       " ('si', 24004),\n",
       " ('vamos', 21997),\n",
       " ('va', 21793),\n",
       " ('entonces', 21304),\n",
       " (';', 20912),\n",
       " ('lópez', 20549),\n",
       " ('manuel', 20285),\n",
       " ('obrador', 19992),\n",
       " ('mil', 19840),\n",
       " ('andrés', 19834),\n",
       " ('méxico', 19003),\n",
       " ('aquí', 14935),\n",
       " ('gobierno', 13980),\n",
       " ('-', 12801),\n",
       " ('ahora', 11800),\n",
       " ('dos', 10724),\n",
       " ('ver', 10279),\n",
       " ('país', 9883),\n",
       " ('millones', 9858),\n",
       " ('nacional', 9582),\n",
       " ('caso', 9580),\n",
       " ('pues', 9202),\n",
       " ('van', 9094),\n",
       " ('ahí', 9066),\n",
       " ('cómo', 9004),\n",
       " ('pesos', 8945),\n",
       " ('pueblo', 8791),\n",
       " ('días', 8782),\n",
       " ('bueno', 8732),\n",
       " ('ser', 8706),\n",
       " ('así', 8666),\n",
       " ('hacer', 8618),\n",
       " ('pregunta', 8546),\n",
       " ('salud', 8441),\n",
       " ('‘', 8290),\n",
       " ('gente', 8151),\n",
       " ('usted', 8044),\n",
       " ('señor', 7810),\n",
       " ('’', 7771),\n",
       " ('año', 7676),\n",
       " ('ciento', 7562),\n",
       " ('gracias', 7510),\n",
       " ('bien', 7283),\n",
       " ('…', 7269),\n",
       " ('importante', 7180),\n",
       " ('tener', 7082),\n",
       " ('decir', 7063),\n",
       " ('manera', 7012),\n",
       " ('años', 6955),\n",
       " ('tres', 6794),\n",
       " ('puede', 6743),\n",
       " ('tema', 6739),\n",
       " ('mismo', 6729),\n",
       " ('hoy', 6403),\n",
       " ('tiempo', 6336),\n",
       " ('hace', 6334),\n",
       " ('día', 6330),\n",
       " ('personas', 6180),\n",
       " ('parte', 6163),\n",
       " ('interlocutor', 5949),\n",
       " ('general', 5911),\n",
       " ('todas', 5898),\n",
       " ('corrupción', 5782),\n",
       " ('interlocutora', 5644),\n",
       " ('buenos', 5634),\n",
       " ('luego', 5566),\n",
       " ('secretaría', 5532),\n",
       " ('sólo', 5381),\n",
       " ('seguridad', 5363),\n",
       " ('poder', 5341),\n",
       " ('muchas', 5304),\n",
       " ('unidos', 5276),\n",
       " ('voy', 5224),\n",
       " ('acuerdo', 5167),\n",
       " ('información', 5134),\n",
       " ('ustedes', 5131),\n",
       " ('haciendo', 4890),\n",
       " ('ayer', 4740),\n",
       " ('trabajo', 4719),\n",
       " ('además', 4527),\n",
       " ('prensa', 4482),\n",
       " ('cada', 4386),\n",
       " ('programa', 4354),\n",
       " ('empresas', 4347),\n",
       " ('trabajadores', 4347),\n",
       " ('federal', 4323),\n",
       " ('semana', 4258),\n",
       " ('apoyo', 4232),\n",
       " ('pública', 4213),\n",
       " ('siempre', 4189),\n",
       " ('ciudad', 4130),\n",
       " ('ejemplo', 4120),\n",
       " ('haber', 4063),\n",
       " ('toda', 4042),\n",
       " ('dinero', 3894),\n",
       " ('seguir', 3874),\n",
       " ('cabo', 3846),\n",
       " ('dar', 3828),\n",
       " ('secretario', 3814),\n",
       " ('casos', 3768),\n",
       " ('momento', 3700),\n",
       " ('menos', 3693),\n",
       " ('creo', 3666),\n",
       " ('mejor', 3588),\n",
       " ('ir', 3577),\n",
       " ('presupuesto', 3546),\n",
       " ('social', 3500),\n",
       " ('vida', 3467),\n",
       " ('atención', 3418),\n",
       " ('política', 3415),\n",
       " ('vez', 3404),\n",
       " ('sino', 3385),\n",
       " ('hecho', 3350),\n",
       " ('mañana', 3335),\n",
       " ('cuatro', 3315),\n",
       " ('mexicanos', 3273),\n",
       " ('asunto', 3272),\n",
       " ('todavía', 3225),\n",
       " ('cosas', 3222),\n",
       " ('derecho', 3215),\n",
       " ('centavos', 3207),\n",
       " ('reforma', 3196),\n",
       " ('plan', 3176),\n",
       " ('recursos', 3173),\n",
       " ('mayor', 3167),\n",
       " ('cinco', 3143),\n",
       " ('pueden', 3137),\n",
       " ('proceso', 3134),\n",
       " ('10', 3122),\n",
       " ('incluso', 3111),\n",
       " ('quiero', 3098),\n",
       " ('bienestar', 3087),\n",
       " ('mundo', 3073),\n",
       " ('jóvenes', 3037),\n",
       " ('nuevo', 3030),\n",
       " ('conferencia', 3029),\n",
       " ('situación', 3013),\n",
       " ('sido', 3011),\n",
       " ('problema', 2943),\n",
       " ('primero', 2921),\n",
       " ('podemos', 2914),\n",
       " ('da', 2904),\n",
       " ('pemex', 2893),\n",
       " ('vacunas', 2837),\n",
       " ('guardia', 2829),\n",
       " ('pandemia', 2825),\n",
       " ('países', 2824),\n",
       " ('20', 2815),\n",
       " ('trabajando', 2792),\n",
       " ('precio', 2788),\n",
       " ('primera', 2767),\n",
       " ('mujeres', 2766),\n",
       " ('(', 2757),\n",
       " ('pasado', 2741),\n",
       " ('baja', 2705),\n",
       " ('queremos', 2690),\n",
       " ('después', 2675),\n",
       " ('ley', 2671),\n",
       " ('empresa', 2651),\n",
       " ('público', 2650),\n",
       " ('construcción', 2640),\n",
       " ('quién', 2615),\n",
       " ('dice', 2609),\n",
       " ('gas', 2609),\n",
       " ('población', 2595),\n",
       " ('gran', 2585),\n",
       " ('sistema', 2577),\n",
       " ('covid', 2570),\n",
       " ('hizo', 2553),\n",
       " ('seis', 2525),\n",
       " ('agua', 2524),\n",
       " ('mayores', 2508),\n",
       " ('versión', 2506),\n",
       " ('república', 2504),\n",
       " ('hospitales', 2490),\n",
       " ('sector', 2467),\n",
       " ('respecto', 2451),\n",
       " ('informar', 2444),\n",
       " ('elementos', 2443),\n",
       " ('conocer', 2416),\n",
       " ('comisión', 2397),\n",
       " ('número', 2397),\n",
       " ('veces', 2396),\n",
       " ('hacia', 2396),\n",
       " ('personal', 2392),\n",
       " ('gobernador', 2389),\n",
       " ('adelante', 2376),\n",
       " ('cuenta', 2371),\n",
       " ('estenográfica', 2369),\n",
       " ('atender', 2366),\n",
       " (')', 2362),\n",
       " ('debe', 2359),\n",
       " ('violencia', 2342),\n",
       " ('médicos', 2338),\n",
       " ('educación', 2335),\n",
       " ('medios', 2334),\n",
       " ('justicia', 2314),\n",
       " ('hablando', 2313),\n",
       " ('desarrollo', 2293),\n",
       " ('decía', 2291),\n",
       " ('economía', 2281),\n",
       " ('claro', 2277),\n",
       " ('seguro', 2268),\n",
       " ('casa', 2260),\n",
       " ('niños', 2256),\n",
       " ('vacuna', 2240),\n",
       " ('mes', 2236),\n",
       " ('informe', 2221),\n",
       " ('investigación', 2220),\n",
       " ('grupo', 2216),\n",
       " ('municipios', 2204),\n",
       " ('cuál', 2201),\n",
       " ('falta', 2198),\n",
       " ('allá', 2197),\n",
       " ('nunca', 2178),\n",
       " ('nivel', 2177),\n",
       " ('fiscalía', 2159),\n",
       " ('matutina', 2158),\n",
       " ('tipo', 2158),\n",
       " ('mucha', 2148),\n",
       " ('veracruz', 2146),\n",
       " ('favor', 2145),\n",
       " ('sonora', 2143),\n",
       " ('derechos', 2143),\n",
       " ('forma', 2141),\n",
       " ('compromiso', 2117),\n",
       " ('nadie', 2103),\n",
       " ('nueva', 2080),\n",
       " ('llegar', 2075),\n",
       " ('primer', 2072),\n",
       " ('defensa', 2061),\n",
       " ('vemos', 2053),\n",
       " ('servicio', 2052),\n",
       " ('dicho', 2046),\n",
       " ('medicamentos', 2038),\n",
       " ('saben', 2031),\n",
       " ('preguntarle', 2026),\n",
       " ('sé', 2000),\n",
       " ('iba', 1994),\n",
       " ('meses', 1983),\n",
       " ('transformación', 1952),\n",
       " ('llevar', 1938),\n",
       " ('vacunación', 1934),\n",
       " ('protección', 1925),\n",
       " ('precisamente', 1921),\n",
       " ('marina', 1919),\n",
       " ('adultos', 1916),\n",
       " ('15', 1902),\n",
       " ('cambio', 1901),\n",
       " ('total', 1901),\n",
       " ('democracia', 1898),\n",
       " ('pueblos', 1897),\n",
       " ('ocho', 1896),\n",
       " ('medio', 1876),\n",
       " ('instituto', 1875),\n",
       " ('buena', 1873),\n",
       " ('doctor', 1865),\n",
       " ('tan', 1862),\n",
       " ('partir', 1860),\n",
       " ('lugar', 1857),\n",
       " ('comunicación', 1855),\n",
       " ('propósito', 1854),\n",
       " ('puedo', 1848),\n",
       " ('familia', 1846),\n",
       " ('segundo', 1842),\n",
       " ('través', 1822),\n",
       " ('autoridades', 1819),\n",
       " ('director', 1816),\n",
       " ('periodo', 1812),\n",
       " ('mal', 1811),\n",
       " ('arriba', 1806),\n",
       " ('interés', 1804),\n",
       " ('ningún', 1797),\n",
       " ('san', 1785),\n",
       " ('pueda', 1784),\n",
       " ('19', 1774),\n",
       " ('dólares', 1773),\n",
       " ('aunque', 1770),\n",
       " ('gobiernos', 1765),\n",
       " ('aeropuerto', 1765),\n",
       " ('respeto', 1764),\n",
       " ('punto', 1764),\n",
       " ('100', 1759),\n",
       " ('impuestos', 1757),\n",
       " ('grandes', 1753),\n",
       " ('energía', 1752),\n",
       " ('saber', 1737),\n",
       " ('ayudar', 1727),\n",
       " ('podría', 1727),\n",
       " ('litro', 1726),\n",
       " ('secretaria', 1725),\n",
       " ('hicieron', 1724),\n",
       " ('verdad', 1724),\n",
       " ('programas', 1723)]"
      ]
     },
     "execution_count": 36,
     "metadata": {},
     "output_type": "execute_result"
    }
   ],
   "source": [
    "fdist_no_stopwords.most_common(300)"
   ]
  },
  {
   "cell_type": "markdown",
   "id": "072fb171",
   "metadata": {},
   "source": [
    "# 4 Otras librerías en Python"
   ]
  },
  {
   "cell_type": "markdown",
   "id": "b39c65db",
   "metadata": {},
   "source": [
    "1. Mencione dos librerı́as en Python además de NLTK para NLP. Ponga una desventaja y ventaja de cada una."
   ]
  },
  {
   "attachments": {},
   "cell_type": "markdown",
   "id": "9a6c38f7",
   "metadata": {},
   "source": [
    "- [CoreNLP](https://stanfordnlp.github.io/CoreNLP/), escrito en java (desventaja), se puede usar con python a través de una interface (ventaja).\n",
    "\n",
    "- [spaCy](https://spacy.io/), open-source (ventaja), no es customizable (al parecer, es difícil modificar los modelos ya hechos)(desventaja)."
   ]
  },
  {
   "cell_type": "markdown",
   "id": "322874dc",
   "metadata": {},
   "source": [
    "2. Mencione tres alternativas para Text Processing en NLP qué existen en otros lenguajes. De una ventaja y desventaja de cada una."
   ]
  },
  {
   "attachments": {},
   "cell_type": "markdown",
   "id": "94f0bd71",
   "metadata": {},
   "source": [
    "- [GATE](https://gate.ac.uk/), biblioteca de C++, código más difícil de leer-escribir (desventaja), rápido (ventaja).\n",
    "- [CoreNLP](https://stanfordnlp.github.io/CoreNLP/), desarrollado para ser usado con Java (ventaja y desventaja a la vez).\n",
    "- [freeling](https://nlp.lsi.upc.edu/freeling/), biblioteca de C++, código más difícil de leer-escribir (desventaja), rápido (ventaja)."
   ]
  }
 ],
 "metadata": {
  "kernelspec": {
   "display_name": "Python 3",
   "language": "python",
   "name": "python3"
  },
  "language_info": {
   "codemirror_mode": {
    "name": "ipython",
    "version": 3
   },
   "file_extension": ".py",
   "mimetype": "text/x-python",
   "name": "python",
   "nbconvert_exporter": "python",
   "pygments_lexer": "ipython3",
   "version": "3.10.7"
  },
  "vscode": {
   "interpreter": {
    "hash": "916dbcbb3f70747c44a77c7bcd40155683ae19c65e1c03b4aa3499c5328201f1"
   }
  }
 },
 "nbformat": 4,
 "nbformat_minor": 5
}
